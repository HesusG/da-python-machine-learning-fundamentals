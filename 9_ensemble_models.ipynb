{
  "cells": [
    {
      "cell_type": "markdown",
      "metadata": {},
      "source": [
        "# Machine Learning Fundamentals\n",
        "### Hesus Garcia\n",
        "### Lección 9 - Métodos de ensamble\n",
        "Se importan los paquetes"
      ]
    },
    {
      "cell_type": "code",
      "execution_count": 2,
      "metadata": {
        "ExecuteTime": {
          "end_time": "2020-07-31T05:43:59.093594Z",
          "start_time": "2020-07-31T05:43:59.083678Z"
        }
      },
      "outputs": [],
      "source": [
        "import numpy as np\n",
        "import pandas as pd\n",
        "from sklearn.model_selection import train_test_split\n",
        "from sklearn.tree import DecisionTreeClassifier\n",
        "from sklearn. ensemble import RandomForestClassifier, BaggingClassifier, AdaBoostClassifier, VotingClassifier\n",
        "from sklearn.linear_model import LogisticRegression\n",
        "from sklearn.svm import SVC"
      ]
    },
    {
      "cell_type": "code",
      "execution_count": 3,
      "metadata": {
        "ExecuteTime": {
          "end_time": "2020-07-31T05:44:57.703351Z",
          "start_time": "2020-07-31T05:44:57.033755Z"
        }
      },
      "outputs": [],
      "source": [
        "url = 'https://raw.githubusercontent.com/Dr-Carlos-Villasenor/ReconocimientoPatrones/master/Datasets/loan_prediction.csv'\n",
        "data = pd.read_csv(url)"
      ]
    },
    {
      "cell_type": "code",
      "execution_count": 12,
      "metadata": {
        "ExecuteTime": {
          "end_time": "2020-07-31T05:59:44.717182Z",
          "start_time": "2020-07-31T05:59:44.567046Z"
        }
      },
      "outputs": [
        {
          "data": {
            "text/html": [
              "<div>\n",
              "<style scoped>\n",
              "    .dataframe tbody tr th:only-of-type {\n",
              "        vertical-align: middle;\n",
              "    }\n",
              "\n",
              "    .dataframe tbody tr th {\n",
              "        vertical-align: top;\n",
              "    }\n",
              "\n",
              "    .dataframe thead th {\n",
              "        text-align: right;\n",
              "    }\n",
              "</style>\n",
              "<table border=\"1\" class=\"dataframe\">\n",
              "  <thead>\n",
              "    <tr style=\"text-align: right;\">\n",
              "      <th></th>\n",
              "      <th>ApplicantIncome</th>\n",
              "      <th>CoapplicantIncome</th>\n",
              "      <th>LoanAmount</th>\n",
              "      <th>Loan_Amount_Term</th>\n",
              "      <th>Credit_History</th>\n",
              "      <th>Loan_Status</th>\n",
              "    </tr>\n",
              "  </thead>\n",
              "  <tbody>\n",
              "    <tr>\n",
              "      <td>0</td>\n",
              "      <td>5849</td>\n",
              "      <td>0.0</td>\n",
              "      <td>0.0</td>\n",
              "      <td>360.0</td>\n",
              "      <td>1.0</td>\n",
              "      <td>1</td>\n",
              "    </tr>\n",
              "    <tr>\n",
              "      <td>1</td>\n",
              "      <td>4583</td>\n",
              "      <td>1508.0</td>\n",
              "      <td>128.0</td>\n",
              "      <td>360.0</td>\n",
              "      <td>1.0</td>\n",
              "      <td>0</td>\n",
              "    </tr>\n",
              "    <tr>\n",
              "      <td>2</td>\n",
              "      <td>3000</td>\n",
              "      <td>0.0</td>\n",
              "      <td>66.0</td>\n",
              "      <td>360.0</td>\n",
              "      <td>1.0</td>\n",
              "      <td>1</td>\n",
              "    </tr>\n",
              "    <tr>\n",
              "      <td>3</td>\n",
              "      <td>2583</td>\n",
              "      <td>2358.0</td>\n",
              "      <td>120.0</td>\n",
              "      <td>360.0</td>\n",
              "      <td>1.0</td>\n",
              "      <td>1</td>\n",
              "    </tr>\n",
              "    <tr>\n",
              "      <td>4</td>\n",
              "      <td>6000</td>\n",
              "      <td>0.0</td>\n",
              "      <td>141.0</td>\n",
              "      <td>360.0</td>\n",
              "      <td>1.0</td>\n",
              "      <td>1</td>\n",
              "    </tr>\n",
              "  </tbody>\n",
              "</table>\n",
              "</div>"
            ],
            "text/plain": [
              "   ApplicantIncome  CoapplicantIncome  LoanAmount  Loan_Amount_Term  \\\n",
              "0             5849                0.0         0.0             360.0   \n",
              "1             4583             1508.0       128.0             360.0   \n",
              "2             3000                0.0        66.0             360.0   \n",
              "3             2583             2358.0       120.0             360.0   \n",
              "4             6000                0.0       141.0             360.0   \n",
              "\n",
              "   Credit_History  Loan_Status  \n",
              "0             1.0            1  \n",
              "1             1.0            0  \n",
              "2             1.0            1  \n",
              "3             1.0            1  \n",
              "4             1.0            1  "
            ]
          },
          "execution_count": 12,
          "metadata": {},
          "output_type": "execute_result"
        }
      ],
      "source": [
        "data.head()"
      ]
    },
    {
      "cell_type": "code",
      "execution_count": 4,
      "metadata": {
        "ExecuteTime": {
          "end_time": "2020-07-31T05:45:04.633414Z",
          "start_time": "2020-07-31T05:45:04.493505Z"
        }
      },
      "outputs": [],
      "source": [
        "x = np.asanyarray(data.iloc[:,:-1])\n",
        "y = np.asanyarray(data.iloc[:,-1])"
      ]
    },
    {
      "cell_type": "code",
      "execution_count": 5,
      "metadata": {
        "ExecuteTime": {
          "end_time": "2020-07-31T05:45:14.591241Z",
          "start_time": "2020-07-31T05:45:14.573591Z"
        }
      },
      "outputs": [],
      "source": [
        "xtrain, xtest, ytrain, ytest = train_test_split(x, y, random_state=0)"
      ]
    },
    {
      "cell_type": "markdown",
      "metadata": {},
      "source": [
        "# Arboles de decision"
      ]
    },
    {
      "cell_type": "code",
      "execution_count": 6,
      "metadata": {
        "ExecuteTime": {
          "end_time": "2020-07-31T05:48:19.690454Z",
          "start_time": "2020-07-31T05:48:19.380257Z"
        }
      },
      "outputs": [
        {
          "name": "stdout",
          "output_type": "stream",
          "text": [
            "Train:  1.0\n",
            "Test:  0.6298701298701299\n"
          ]
        }
      ],
      "source": [
        "dt = DecisionTreeClassifier()\n",
        "dt.fit(xtrain,ytrain)\n",
        "\n",
        "print('Train: ', dt.score(xtrain,ytrain))\n",
        "print('Test: ', dt.score(xtest,ytest))"
      ]
    },
    {
      "cell_type": "markdown",
      "metadata": {},
      "source": [
        "# Voting"
      ]
    },
    {
      "cell_type": "code",
      "execution_count": 7,
      "metadata": {
        "ExecuteTime": {
          "end_time": "2020-07-31T05:48:36.180000Z",
          "start_time": "2020-07-31T05:48:35.279942Z"
        }
      },
      "outputs": [
        {
          "name": "stdout",
          "output_type": "stream",
          "text": [
            "Train:  0.8239130434782609\n",
            "Test:  0.7662337662337663\n"
          ]
        }
      ],
      "source": [
        "lr = LogisticRegression(solver='lbfgs', max_iter=500)\n",
        "dt = DecisionTreeClassifier()\n",
        "svm = SVC(kernel = 'rbf', gamma='scale')\n",
        "\n",
        "evc = VotingClassifier(estimators= [('lr',lr),('dt',dt),('svm',svm)], \n",
        "                       voting = 'hard')\n",
        "\n",
        "evc.fit(xtrain, ytrain)\n",
        "\n",
        "print('Train: ', evc.score(xtrain,ytrain))\n",
        "print('Test: ', evc.score(xtest,ytest))"
      ]
    },
    {
      "cell_type": "markdown",
      "metadata": {},
      "source": [
        "# Bagging"
      ]
    },
    {
      "cell_type": "code",
      "execution_count": 8,
      "metadata": {
        "ExecuteTime": {
          "end_time": "2020-07-31T05:48:48.523322Z",
          "start_time": "2020-07-31T05:48:48.400367Z"
        }
      },
      "outputs": [
        {
          "name": "stdout",
          "output_type": "stream",
          "text": [
            "Train:  0.6782608695652174\n",
            "Test:  0.7207792207792207\n"
          ]
        }
      ],
      "source": [
        "bg = BaggingClassifier(SVC(kernel = 'rbf', gamma='scale'), max_samples= 0.5,\n",
        "                       max_features = 1.0, n_estimators = 20)\n",
        "bg.fit(xtrain,ytrain)\n",
        "\n",
        "print('Train: ', bg.score(xtrain,ytrain))\n",
        "print('Test: ', bg.score(xtest,ytest))"
      ]
    },
    {
      "cell_type": "markdown",
      "metadata": {},
      "source": [
        "# Random forest"
      ]
    },
    {
      "cell_type": "code",
      "execution_count": 9,
      "metadata": {
        "ExecuteTime": {
          "end_time": "2020-07-31T05:49:02.199756Z",
          "start_time": "2020-07-31T05:49:01.980238Z"
        }
      },
      "outputs": [
        {
          "name": "stdout",
          "output_type": "stream",
          "text": [
            "Train:  0.782608695652174\n",
            "Test:  0.7857142857142857\n"
          ]
        }
      ],
      "source": [
        "#Random Forest - Ensemble of Descision Trees\n",
        "rf = RandomForestClassifier(n_estimators=100, max_depth=5)\n",
        "rf.fit(xtrain,ytrain)\n",
        "\n",
        "print('Train: ', rf.score(xtrain,ytrain))\n",
        "print('Test: ', rf.score(xtest,ytest))"
      ]
    },
    {
      "cell_type": "code",
      "execution_count": 11,
      "metadata": {
        "ExecuteTime": {
          "end_time": "2020-07-31T05:58:42.080663Z",
          "start_time": "2020-07-31T05:58:41.857272Z"
        }
      },
      "outputs": [
        {
          "data": {
            "text/plain": [
              "RandomForestClassifier(max_depth=5)"
            ]
          },
          "execution_count": 11,
          "metadata": {},
          "output_type": "execute_result"
        }
      ],
      "source": [
        "rf."
      ]
    },
    {
      "cell_type": "markdown",
      "metadata": {},
      "source": [
        "# AdaBoost"
      ]
    },
    {
      "cell_type": "code",
      "execution_count": 10,
      "metadata": {
        "ExecuteTime": {
          "end_time": "2020-07-31T05:49:20.677742Z",
          "start_time": "2020-07-31T05:49:20.289783Z"
        }
      },
      "outputs": [
        {
          "name": "stdout",
          "output_type": "stream",
          "text": [
            "Train:  0.7782608695652173\n",
            "Test:  0.7792207792207793\n"
          ]
        }
      ],
      "source": [
        "adb = AdaBoostClassifier(DecisionTreeClassifier(max_depth=3),\n",
        "                         n_estimators = 100, learning_rate = 0.001)\n",
        "adb.fit(xtrain,ytrain)\n",
        "\n",
        "print('Train: ', adb.score(xtrain,ytrain))\n",
        "print('Test: ', adb.score(xtest,ytest))"
      ]
    },
    {
      "cell_type": "code",
      "execution_count": null,
      "metadata": {},
      "outputs": [],
      "source": []
    }
  ],
  "metadata": {
    "kernelspec": {
      "display_name": "Python 3",
      "language": "python",
      "name": "python3"
    },
    "language_info": {
      "codemirror_mode": {
        "name": "ipython",
        "version": 3
      },
      "file_extension": ".py",
      "mimetype": "text/x-python",
      "name": "python",
      "nbconvert_exporter": "python",
      "pygments_lexer": "ipython3",
      "version": "3.7.4"
    }
  },
  "nbformat": 4,
  "nbformat_minor": 2
}
